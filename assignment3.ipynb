{
 "cells": [
  {
   "cell_type": "code",
   "execution_count": 2,
   "id": "957f1c90",
   "metadata": {},
   "outputs": [
    {
     "name": "stdout",
     "output_type": "stream",
     "text": [
      "Twinkle, twinkle, little star,\n",
      "    How I wonder what you are!\n",
      "         Up above the world so high,\n",
      "         Like a diamond in the sky.\n",
      "\n",
      "Twinkle, twinkle, little star,\n",
      "    How I wonder what you are\n"
     ]
    }
   ],
   "source": [
    "#Question No 1\n",
    "\n",
    "print('''Twinkle, twinkle, little star,\n",
    "    How I wonder what you are!\n",
    "         Up above the world so high,\n",
    "         Like a diamond in the sky.\n",
    "\n",
    "Twinkle, twinkle, little star,\n",
    "    How I wonder what you are''')"
   ]
  },
  {
   "cell_type": "code",
   "execution_count": 3,
   "id": "2ad3d011",
   "metadata": {},
   "outputs": [
    {
     "name": "stdout",
     "output_type": "stream",
     "text": [
      "3.8.8 (default, Apr 13 2021, 15:08:03) [MSC v.1916 64 bit (AMD64)]\n"
     ]
    }
   ],
   "source": [
    "#Question No 2\n",
    "\n",
    "import sys\n",
    "print(sys.version)"
   ]
  },
  {
   "cell_type": "code",
   "execution_count": 4,
   "id": "292e1b3e",
   "metadata": {},
   "outputs": [
    {
     "name": "stdout",
     "output_type": "stream",
     "text": [
      "2021-10-23 18:12:30.011952\n"
     ]
    }
   ],
   "source": [
    "#Question No 3\n",
    "\n",
    "from datetime import datetime\n",
    "today = datetime.today()\n",
    "print(today)"
   ]
  },
  {
   "cell_type": "code",
   "execution_count": 5,
   "id": "021f277a",
   "metadata": {},
   "outputs": [
    {
     "name": "stdout",
     "output_type": "stream",
     "text": [
      "Enter radius of circle : 4\n",
      "50.2592\n"
     ]
    }
   ],
   "source": [
    "#Question No 4\n",
    "\n",
    "radius = float(input(\"Enter radius of circle : \"))\n",
    "area = 3.1412 * radius**2\n",
    "print(area)"
   ]
  },
  {
   "cell_type": "code",
   "execution_count": 7,
   "id": "531c06cb",
   "metadata": {},
   "outputs": [
    {
     "name": "stdout",
     "output_type": "stream",
     "text": [
      "Enter Your First Name : hadeed\n",
      "Enter Your Second Name : zaki\n",
      "zaki hadeed\n"
     ]
    }
   ],
   "source": [
    "#Question No 5\n",
    "\n",
    "firstName = input(\"Enter Your First Name : \")\n",
    "secondName = input(\"Enter Your Second Name : \")\n",
    "\n",
    "print(secondName + \" \" + firstName)"
   ]
  },
  {
   "cell_type": "code",
   "execution_count": 8,
   "id": "68a4feec",
   "metadata": {},
   "outputs": [
    {
     "name": "stdout",
     "output_type": "stream",
     "text": [
      "Enter First Number : 4\n",
      "Enter Second Number : 4\n",
      "8\n"
     ]
    }
   ],
   "source": [
    "#Question No 6\n",
    "\n",
    "firstNumber = int(input(\"Enter First Number : \"))\n",
    "secondNumber = int(input(\"Enter Second Number : \"))\n",
    "print(firstNumber + secondNumber)"
   ]
  },
  {
   "cell_type": "code",
   "execution_count": null,
   "id": "f09b2c5e",
   "metadata": {},
   "outputs": [],
   "source": [
    "#Question No 7\n",
    "\n",
    "maths = int(input(\"Enter Your Maths Marks : \"))\n",
    "english = int(input(\"Enter Your English Marks : \"))\n",
    "urdu = int(input(\"Enter Your Urdu Marks : \"))\n",
    "isl = int(input(\"Enter Your Isl Marks : \"))\n",
    "computer = int(input(\"Enter Your Computer Marks : \"))\n",
    "\n",
    "\n",
    "total_marks = 500\n",
    "obtained_marks = (maths + english + urdu + isl + computer\n",
    "\n",
    "\n",
    "percentage = (obtained_marks / total_marks) * 100\n",
    "\n",
    "if percentage <= 100 or percentage >= 90:\n",
    "    print(\"You Got A+\")\n",
    "    \n",
    "elif percentage < 90 or percentage >= 80:\n",
    "    print(\"You Got A\")\n",
    "\n",
    "elif percentage < 80 or percentage >= 70:\n",
    "    print(\"You Got B+\")\n",
    "\n",
    "elif percentage < 70 or percentage >= 60:\n",
    "    print(\"You Got B\")\n",
    "    \n",
    "elif percentage < 60 or percentage >= 50:\n",
    "    print(\"You Got C\")\n",
    "    \n",
    "elif percentage < 50:\n",
    "    print(\"You are Fail\")\n",
    "    \n",
    "else:\n",
    "    print(\"you entered invalid marks!!!\")\n"
   ]
  },
  {
   "cell_type": "code",
   "execution_count": null,
   "id": "67f8a9e0",
   "metadata": {},
   "outputs": [],
   "source": [
    "#Question No 8\n",
    "\n",
    "num = int(input(\"Enter A Number : \"))\n",
    "\n",
    "if num % 2 == 0:\n",
    "    print(\"this is even number\")\n",
    "    \n",
    "else:\n",
    "    print(\"this is odd number\")"
   ]
  },
  {
   "cell_type": "code",
   "execution_count": null,
   "id": "eb1e6c11",
   "metadata": {},
   "outputs": [],
   "source": [
    "#Question No 9\n",
    "\n",
    "num_list = [1, 2, 3, 4, 5, 6, 7, 8, 9, 10]\n",
    "print(\"Length of list : \" + len(num_list))"
   ]
  },
  {
   "cell_type": "code",
   "execution_count": null,
   "id": "ca01b897",
   "metadata": {},
   "outputs": [],
   "source": [
    "#Question No 10\n",
    "\n",
    "a = [1,2,3,4,5,6,7,8,9]\n",
    "sum = 0\n",
    "\n",
    "for item in a:\n",
    "    sum += item\n",
    "    \n",
    "    \n",
    "print(sum)   "
   ]
  },
  {
   "cell_type": "code",
   "execution_count": null,
   "id": "5b06983d",
   "metadata": {},
   "outputs": [],
   "source": [
    "#Question No 11\n",
    "\n",
    "a = [99,2,3,89,5,45,7,66,33]\n",
    "small = a[0]\n",
    "\n",
    "for item in a:\n",
    "    if item > small:\n",
    "        small = item\n",
    "print(small)"
   ]
  },
  {
   "cell_type": "code",
   "execution_count": null,
   "id": "2a0347ef",
   "metadata": {},
   "outputs": [],
   "source": [
    "#Question No 12\n",
    "\n",
    "a = [1,2,3,4,5,6,7,8,9]\n",
    "\n",
    "for item in a:\n",
    "    if item <= 5:\n",
    "        print(item)\n",
    "    else:\n",
    "        break"
   ]
  },
  {
   "cell_type": "code",
   "execution_count": null,
   "id": "061d9edf",
   "metadata": {},
   "outputs": [],
   "source": []
  }
 ],
 "metadata": {
  "kernelspec": {
   "display_name": "Python 3",
   "language": "python",
   "name": "python3"
  },
  "language_info": {
   "codemirror_mode": {
    "name": "ipython",
    "version": 3
   },
   "file_extension": ".py",
   "mimetype": "text/x-python",
   "name": "python",
   "nbconvert_exporter": "python",
   "pygments_lexer": "ipython3",
   "version": "3.8.8"
  }
 },
 "nbformat": 4,
 "nbformat_minor": 5
}
